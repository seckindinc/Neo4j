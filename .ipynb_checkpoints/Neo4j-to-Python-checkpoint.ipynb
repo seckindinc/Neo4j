{
 "cells": [
  {
   "cell_type": "code",
   "execution_count": 1,
   "metadata": {},
   "outputs": [],
   "source": [
    "#Loading libraries\n",
    "import sys\n",
    "import py2neo as py2neo\n",
    "import networkx as nx\n",
    "import pandas as pd"
   ]
  },
  {
   "cell_type": "code",
   "execution_count": 2,
   "metadata": {},
   "outputs": [],
   "source": [
    "#Connecting local\n",
    "py2neo.authenticate(\"localhost:7474\", \"neo4j\", \"neo4j\")"
   ]
  },
  {
   "cell_type": "code",
   "execution_count": 4,
   "metadata": {},
   "outputs": [],
   "source": [
    "graph = py2neo.Graph(\"http://localhost:7474/db/data/\")"
   ]
  },
  {
   "cell_type": "code",
   "execution_count": 5,
   "metadata": {},
   "outputs": [],
   "source": [
    "query = \"\"\"\n",
    "MATCH (person:Person{name: 'Tom Hanks'})\n",
    "MATCH (movie:Movie{title:\"Charlie Wilson's War\"})\n",
    "MATCH path=(person)-[rel:ACTED_IN]->(movie)\n",
    "RETURN path,person,movie\n",
    "\"\"\""
   ]
  },
  {
   "cell_type": "code",
   "execution_count": 6,
   "metadata": {},
   "outputs": [],
   "source": [
    "results = graph.data(query)"
   ]
  },
  {
   "cell_type": "code",
   "execution_count": 7,
   "metadata": {},
   "outputs": [
    {
     "name": "stdout",
     "output_type": "stream",
     "text": [
      "[{'path': (f2506b1)-[:ACTED_IN {earnings:15614066,roles:[\"Rep. Charlie Wilson\"]}]->(bcddfde), 'person': (f2506b1:Person {born:1956,coefficient:0.15268817204301074,name:\"Tom Hanks\",triangles:71}), 'movie': (bcddfde:Movie {released:2007,tagline:\"A stiff drink. A little mascara. A lot of nerve. Who said they couldn't bring down the Soviet empire.\",title:\"Charlie Wilson's War\"})}]\n",
      "\n",
      "<class 'list'>\n"
     ]
    }
   ],
   "source": [
    "print(results)\n",
    "print('')\n",
    "print(type(results))"
   ]
  },
  {
   "cell_type": "code",
   "execution_count": 8,
   "metadata": {},
   "outputs": [
    {
     "data": {
      "text/html": [
       "<div>\n",
       "<style scoped>\n",
       "    .dataframe tbody tr th:only-of-type {\n",
       "        vertical-align: middle;\n",
       "    }\n",
       "\n",
       "    .dataframe tbody tr th {\n",
       "        vertical-align: top;\n",
       "    }\n",
       "\n",
       "    .dataframe thead th {\n",
       "        text-align: right;\n",
       "    }\n",
       "</style>\n",
       "<table border=\"1\" class=\"dataframe\">\n",
       "  <thead>\n",
       "    <tr style=\"text-align: right;\">\n",
       "      <th></th>\n",
       "      <th>movie</th>\n",
       "      <th>path</th>\n",
       "      <th>person</th>\n",
       "    </tr>\n",
       "  </thead>\n",
       "  <tbody>\n",
       "    <tr>\n",
       "      <th>0</th>\n",
       "      <td>{'title': 'Charlie Wilson's War', 'tagline': '...</td>\n",
       "      <td>({'earnings': 15614066, 'roles': ['Rep. Charli...</td>\n",
       "      <td>{'triangles': 71, 'coefficient': 0.15268817204...</td>\n",
       "    </tr>\n",
       "  </tbody>\n",
       "</table>\n",
       "</div>"
      ],
      "text/plain": [
       "                                               movie  \\\n",
       "0  {'title': 'Charlie Wilson's War', 'tagline': '...   \n",
       "\n",
       "                                                path  \\\n",
       "0  ({'earnings': 15614066, 'roles': ['Rep. Charli...   \n",
       "\n",
       "                                              person  \n",
       "0  {'triangles': 71, 'coefficient': 0.15268817204...  "
      ]
     },
     "execution_count": 8,
     "metadata": {},
     "output_type": "execute_result"
    }
   ],
   "source": [
    "#Converting Neo4j list to dataframe\n",
    "pd.DataFrame(results)"
   ]
  },
  {
   "cell_type": "code",
   "execution_count": 9,
   "metadata": {},
   "outputs": [
    {
     "name": "stdout",
     "output_type": "stream",
     "text": [
      "(f2506b1:Person {born:1956,coefficient:0.15268817204301074,name:\"Tom Hanks\",triangles:71})\n",
      "\n",
      "(bcddfde:Movie {released:2007,tagline:\"A stiff drink. A little mascara. A lot of nerve. Who said they couldn't bring down the Soviet empire.\",title:\"Charlie Wilson's War\"})\n",
      "\n",
      "(f2506b1)-[:ACTED_IN {earnings:15614066,roles:[\"Rep. Charlie Wilson\"]}]->(bcddfde)\n"
     ]
    }
   ],
   "source": [
    "#Slicing person,movie and path\n",
    "for d in results:\n",
    "    print(d['person'])\n",
    "    print('')\n",
    "    print(d['movie'])\n",
    "    print('')\n",
    "    print(d['path'])"
   ]
  },
  {
   "cell_type": "code",
   "execution_count": 10,
   "metadata": {},
   "outputs": [],
   "source": [
    "data = graph.run(query)"
   ]
  },
  {
   "cell_type": "code",
   "execution_count": 11,
   "metadata": {},
   "outputs": [
    {
     "name": "stdout",
     "output_type": "stream",
     "text": [
      "<py2neo.database.Cursor object at 0x7fae414b24e0>\n",
      "\n",
      "<class 'py2neo.database.Cursor'>\n"
     ]
    }
   ],
   "source": [
    "print(data)\n",
    "print('')\n",
    "print(type(data))"
   ]
  },
  {
   "cell_type": "code",
   "execution_count": 12,
   "metadata": {},
   "outputs": [
    {
     "name": "stdout",
     "output_type": "stream",
     "text": [
      "(f2506b1:Person {born:1956,coefficient:0.15268817204301074,name:\"Tom Hanks\",triangles:71})\n",
      "\n",
      "(bcddfde:Movie {released:2007,tagline:\"A stiff drink. A little mascara. A lot of nerve. Who said they couldn't bring down the Soviet empire.\",title:\"Charlie Wilson's War\"})\n",
      "\n",
      "(f2506b1)-[:ACTED_IN {earnings:15614066,roles:[\"Rep. Charlie Wilson\"]}]->(bcddfde)\n"
     ]
    }
   ],
   "source": [
    "for d in data:\n",
    "    print(d['person'])\n",
    "    print('')\n",
    "    print(d['movie'])\n",
    "    print('')\n",
    "    print(d['path'])"
   ]
  },
  {
   "cell_type": "code",
   "execution_count": 13,
   "metadata": {},
   "outputs": [],
   "source": [
    "#Loading Cypher extension to use in Jupyter Notebook\n",
    "%load_ext cypher"
   ]
  },
  {
   "cell_type": "code",
   "execution_count": 14,
   "metadata": {},
   "outputs": [
    {
     "name": "stdout",
     "output_type": "stream",
     "text": [
      "1 rows affected.\n"
     ]
    },
    {
     "data": {
      "text/html": [
       "<table>\n",
       "    <tr>\n",
       "        <th>path</th>\n",
       "        <th>person</th>\n",
       "        <th>movie</th>\n",
       "    </tr>\n",
       "    <tr>\n",
       "        <td>[{&#x27;triangles&#x27;: 71, &#x27;born&#x27;: 1956, &#x27;coefficient&#x27;: 0.15268817204301074, &#x27;name&#x27;: &#x27;Tom Hanks&#x27;}, {&#x27;earnings&#x27;: 15614066, &#x27;roles&#x27;: [&#x27;Rep. Charlie Wilson&#x27;]}, {&#x27;tagline&#x27;: &quot;A stiff drink. A little mascara. A lot of nerve. Who said they couldn&#x27;t bring down the Soviet empire.&quot;, &#x27;title&#x27;: &quot;Charlie Wilson&#x27;s War&quot;, &#x27;released&#x27;: 2007}]</td>\n",
       "        <td>{&#x27;triangles&#x27;: 71, &#x27;born&#x27;: 1956, &#x27;coefficient&#x27;: 0.15268817204301074, &#x27;name&#x27;: &#x27;Tom Hanks&#x27;}</td>\n",
       "        <td>{&#x27;tagline&#x27;: &quot;A stiff drink. A little mascara. A lot of nerve. Who said they couldn&#x27;t bring down the Soviet empire.&quot;, &#x27;title&#x27;: &quot;Charlie Wilson&#x27;s War&quot;, &#x27;released&#x27;: 2007}</td>\n",
       "    </tr>\n",
       "</table>"
      ],
      "text/plain": [
       "[[[{'born': 1956,\n",
       "    'coefficient': 0.15268817204301074,\n",
       "    'name': 'Tom Hanks',\n",
       "    'triangles': 71},\n",
       "   {'earnings': 15614066, 'roles': ['Rep. Charlie Wilson']},\n",
       "   {'released': 2007,\n",
       "    'tagline': \"A stiff drink. A little mascara. A lot of nerve. Who said they couldn't bring down the Soviet empire.\",\n",
       "    'title': \"Charlie Wilson's War\"}],\n",
       "  {'born': 1956,\n",
       "   'coefficient': 0.15268817204301074,\n",
       "   'name': 'Tom Hanks',\n",
       "   'triangles': 71},\n",
       "  {'released': 2007,\n",
       "   'tagline': \"A stiff drink. A little mascara. A lot of nerve. Who said they couldn't bring down the Soviet empire.\",\n",
       "   'title': \"Charlie Wilson's War\"}]]"
      ]
     },
     "execution_count": 14,
     "metadata": {},
     "output_type": "execute_result"
    }
   ],
   "source": [
    "%%cypher \n",
    "MATCH (person:Person{name: 'Tom Hanks'})\n",
    "MATCH (movie:Movie{title:\"Charlie Wilson's War\"})\n",
    "MATCH path=(person)-[rel:ACTED_IN]->(movie)\n",
    "RETURN path,person,movie"
   ]
  }
 ],
 "metadata": {
  "kernelspec": {
   "display_name": "Python 3",
   "language": "python",
   "name": "python3"
  },
  "language_info": {
   "codemirror_mode": {
    "name": "ipython",
    "version": 3
   },
   "file_extension": ".py",
   "mimetype": "text/x-python",
   "name": "python",
   "nbconvert_exporter": "python",
   "pygments_lexer": "ipython3",
   "version": "3.6.4"
  }
 },
 "nbformat": 4,
 "nbformat_minor": 2
}
