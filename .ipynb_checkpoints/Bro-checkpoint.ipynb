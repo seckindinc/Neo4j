{
 "cells": [
  {
   "cell_type": "code",
   "execution_count": 8,
   "metadata": {},
   "outputs": [],
   "source": [
    "import sys\n",
    "import subprocess\n",
    "import optparse\n",
    "import threading\n",
    "from neo4jrestclient.client import GraphDatabase\n",
    "from getpass import getpass\n",
    "from time import sleep"
   ]
  },
  {
   "cell_type": "code",
   "execution_count": 14,
   "metadata": {},
   "outputs": [],
   "source": [
    "def main():\n",
    "    '''\n",
    "    VDNS was written to be included in the MercenaryHuntFramework  and on Mercenary-Linux\n",
    "    It can however be run as a standalone application.  This application requires that bro-cut\n",
    "    be installed on the host. Default location that it looks for bro-cut is /usr/local/bro/bin/bro-cut\n",
    "    If your installation path for bro-cut is different, modify the sourcefile accordingly.\n",
    "    '''\n",
    "\n",
    "    # Handle command-line arguments\n",
    "    PARSER = optparse.OptionParser()\n",
    "    PARSER.add_option('--logfile', default=None, help='Logfile to read from.  Default: %default')\n",
    "    (options, args) = PARSER.parse_args() #changed Feb2017 Throwing error for unknown var OPTIONS\n",
    "\n",
    "    gdb = GraphDatabase('http://localhost:7474/browser/', username='neo4j', password='neo4j')\n",
    "    # Create a BRO log file reader and pull from the logfile\n",
    "    full_query = \"cat {0} | /usr/local/bro/bin/bro-cut uid id.orig_h id.orig_p\\\n",
    "            id.resp_h id.resp_p query answers qtype_name \".format(options.logfile)\n",
    "\n",
    "    # ___ Fails the first time even after the NUll node is added____\n",
    "    dnsquery = gdb.labels.create(\"DNS_COMMS\") #create label\n",
    "    queries = gdb.labels.create(\"DNS_QUERIES\") #create label\n",
    "    answers = gdb.labels.create(\"DNS_ANSWERS\") #create label\n",
    "    qtypes = gdb.labels.create(\"DNS_QTYPES\") #create label\n",
    "    dns_Sips = gdb.labels.create(\"DNS_SOURCE_IPS\") #create label\n",
    "    dns_Dips = gdb.labels.create(\"DNS_DEST_IPS\") #create label\n",
    "    print (\"[+] Creating Labels...\")\n",
    "    sleep(5)\n",
    "\n",
    "    nval = gdb.node.create(query=\"NULL\") #create null node\n",
    "    nval.labels.add('DNS_QUERIES') #initialize node label w/ null node\n",
    "    nval2 = gdb.node.create(uid = 'NULL', s_ip = 'NULL', d_ip = 'NULL', s_port = 'NULL', d_port = 'NULL', qtype = 'NULL', query = 'NULL', answer=\"NULL\") #create node\n",
    "    nval2.labels.add('DNS_COMMS')#initialize node label w/ null node\n",
    "    nval3 = gdb.node.create(qtype=\"NULL\") #create node\n",
    "    nval3.labels.add('DNS_QTYPES') #initialize node label w/ null node\n",
    "    nval4 = gdb.node.create(answer=\"NULL\") #create node\n",
    "    nval4.labels.add('DNS_ANSWERS') #initialize node label w/ null node\n",
    "    nval5 = gdb.node.create(s_ip=\"NULL\") #create node\n",
    "    nval5.labels.add('DNS_SOURCE_IPS') #initialize node label w/ null node\n",
    "    nval6 = gdb.node.create(d_ip='NULL')\n",
    "    nval6.labels.add('DNS_DEST_IPS')\n",
    "    p = subprocess.Popen(full_query, shell=True, stdout=subprocess.PIPE, stderr=subprocess.STDOUT)\n",
    "    cnt = 0 #Counter to Track Number of Entries based on threads created to ingest them\n",
    "    for line  in p.stdout.readlines():\n",
    "        lline = line.split()\n",
    "        for val in range(len(lline)):\n",
    "            if ',' in lline[val]:\n",
    "                lline2 = lline[val].split(',')\n",
    "            else:\n",
    "                lline2 = lline[val]\n",
    "            if (val == 0):\n",
    "                v1 = lline2\n",
    "            elif (val ==1): #Source IP\n",
    "                v2 = lline2\n",
    "                srclist = gdb.labels.get('DNS_SOURCE_IPS') # handle on query transaction for nodes w/ matchng label\n",
    "                check = srclist.get(s_ip=lline2) #check nodes for existence of value of lline2\n",
    "                if (len(check) == 0): # If no query  matches a query already under label\n",
    "                    hsrc = gdb.nodes.create(s_ip=lline2)\n",
    "                    dns_Sips.add(hsrc)\n",
    "            elif (val == 2):\n",
    "                v3 = lline2\n",
    "            elif (val == 3): #Dest IP\n",
    "                v4 = lline2\n",
    "                dstlist = gdb.labels.get('DNS_DEST_IPS') # handle on query transaction for nodes w/ matchng label\n",
    "                check = dstlist.get(d_ip=lline2) #check nodes for existence of value of lline2\n",
    "                if (len(check) == 0): # If no query  matches a query already under label\n",
    "                   hdst = gdb.nodes.create(d_ip=lline2)\n",
    "                   dns_Dips.add(hdst)\n",
    "            elif (val == 4): #Dest Port\n",
    "                v5 = lline2\n",
    "            elif (val == 5): #Query\n",
    "                v6 = lline2\n",
    "                querylist = gdb.labels.get('DNS_QUERIES') #get handle on query transaction for all nodes for the DNS_QUERY LABEL\n",
    "                check = querylist.get(query=lline2)\n",
    "                if (len(check) == 0): # If no query matches a query already under DNS_QUERIES label\n",
    "                    hquery = gdb.nodes.create(query=lline2)\n",
    "                    queries.add(hquery)\n",
    "            elif (val == 6): #Answers\n",
    "                v7 = lline2\n",
    "                anslist = gdb.labels.get('DNS_ANSWERS') #get handle on query tansaction for all nodes with DNS_ANSWERS label\n",
    "                check = anslist.get(answer=lline2)\n",
    "                if (len(check) == 0): #If no query matches a query already under DNS_ANSWERS label\n",
    "                    hanswer = gdb.nodes.create(answer=lline2)\n",
    "                    answers.add(hanswer)\n",
    "            elif (val == 7): #QueryType\n",
    "                v8 = lline2\n",
    "                qtlist = gdb.labels.get('DNS_QTYPES') #get handle on query transaction for all nodes with DNS_QUERY label\n",
    "                check = qtlist.get(qtype=lline2)\n",
    "                if (len(check) == 0): #If no query matches a query already under DNS_QTYPES label\n",
    "                    hqtype = gdb.nodes.create(qtype=lline2) #Create Node and return handle to Node\n",
    "                    qtypes.add(hqtype) #Use Handle to Label DNS_QTYPES to add node using the handle to the node\n",
    "            else:\n",
    "                pass\n",
    "        \n",
    "        q = gdb.nodes.create(uid=v1, s_ip=v2, s_port=v3, d_ip=v4, d_port=v5, query=v6, answer=v7, qtype=v8)\n",
    "        new_thread = threading.Thread(dnsquery.add(q))\n",
    "        new_thread.start()\n",
    "        new_thread.join\n",
    "        cnt += 1\n",
    "        print (\"[+] {0} DNS Log Entries Injested\".format(cnt))"
   ]
  },
  {
   "cell_type": "code",
   "execution_count": 18,
   "metadata": {},
   "outputs": [
    {
     "name": "stderr",
     "output_type": "stream",
     "text": [
      "Usage: ipykernel_launcher.py [options]\n",
      "\n",
      "ipykernel_launcher.py: error: no such option: -f\n"
     ]
    },
    {
     "ename": "SystemExit",
     "evalue": "2",
     "output_type": "error",
     "traceback": [
      "An exception has occurred, use %tb to see the full traceback.\n",
      "\u001b[0;31mSystemExit\u001b[0m\u001b[0;31m:\u001b[0m 2\n"
     ]
    },
    {
     "name": "stderr",
     "output_type": "stream",
     "text": [
      "/home/seckindinc/anaconda3/lib/python3.6/site-packages/IPython/core/interactiveshell.py:2918: UserWarning: To exit: use 'exit', 'quit', or Ctrl-D.\n",
      "  warn(\"To exit: use 'exit', 'quit', or Ctrl-D.\", stacklevel=1)\n"
     ]
    }
   ],
   "source": [
    "if __name__ == '__main__':\n",
    "    #parse args from cli\n",
    "    if len(sys.argv) < 2:\n",
    "        print (\"Error: Too Few Arguments\")\n",
    "        print (\"<command> --help\")\n",
    "        sys.exit()\n",
    "        \n",
    "    main()"
   ]
  }
 ],
 "metadata": {
  "kernelspec": {
   "display_name": "Python 3",
   "language": "python",
   "name": "python3"
  },
  "language_info": {
   "codemirror_mode": {
    "name": "ipython",
    "version": 3
   },
   "file_extension": ".py",
   "mimetype": "text/x-python",
   "name": "python",
   "nbconvert_exporter": "python",
   "pygments_lexer": "ipython3",
   "version": "3.6.4"
  }
 },
 "nbformat": 4,
 "nbformat_minor": 2
}
