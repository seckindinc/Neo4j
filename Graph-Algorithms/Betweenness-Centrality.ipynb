{
 "cells": [
  {
   "cell_type": "markdown",
   "metadata": {},
   "source": [
    "### Betweenness Centrality\n",
    "\n",
    "Betweenness Centrality is a measure of centrality in a graph. In graph theory and network analysis, indicators of centrality identify the most important vertices within a graph. It is based on observation, that every pair of vertices exchange information and information flows along the geodesic (shortest) path between two vertices. For every pair of vertices in a connected graph, there exists at least one shortest path between the vertices such that either the number of edges , that the path passes through ( unweighted network ) or the sum of the weights of the edges is minimized ( weighted network). The betweenness centrality for each node is the number of these shortest paths, that pass through the node.\n",
    "\n",
    "Betweenness Centrality finds wide application in network theory. It represents the degree of which nodes stand between each other. For example, in a telecommunications network, a node with higher betweenness centrality would have more control over the network, because more information will pass through that node. Betweenness centrality was devised as a general measure of centrality.\n",
    "\n",
    "![ANN](https://github.com/neo4j-contrib/neo4j-graph-algorithms/raw/3.1/doc/img/betweenness_centrality.png)\n",
    "\n",
    "Betweenness centrality is useful in finding vertices that serve as a bridge from one part of a graph to another. Consequently, betweenness is a rudimentary measure of the control, that a specific node exerts over the flow throughout the full graph. For example, Alice in above example is the main connection in the graph. Were Alice to be removed, all connections in the graph would be cut off. This makes Alice “important”, because it ensures that no nodes are isolated. When using betweenness centrality as an analysis measure, it indicates a potential gate keeping or controlling node.\n",
    "\n",
    "It differs from the other centrality measures. A node can have quite low degree, be connected to others that have low degree, even be a long way from others on average, and still have high betweenness. Consider a node A that lies on a bridge between two groups of vertices within a network. Since any path between nodes in different groups must go through this bridge, node A acquires high betweenness even though it is not well connected (it lies at the periphery of both groups)."
   ]
  },
  {
   "cell_type": "code",
   "execution_count": 1,
   "metadata": {},
   "outputs": [],
   "source": [
    "#Loading library\n",
    "import py2neo as py2neo"
   ]
  },
  {
   "cell_type": "code",
   "execution_count": 2,
   "metadata": {},
   "outputs": [],
   "source": [
    "#Accessing local Neo4j Server\n",
    "py2neo.authenticate(\"localhost:7474\", \"neo4j\", \"neo4j\")"
   ]
  },
  {
   "cell_type": "code",
   "execution_count": 3,
   "metadata": {},
   "outputs": [],
   "source": [
    "graph = py2neo.Graph(\"http://localhost:7474/db/data/\")"
   ]
  },
  {
   "cell_type": "code",
   "execution_count": 14,
   "metadata": {},
   "outputs": [],
   "source": [
    "#Calculating coefficients\n",
    "query = \"\"\"\n",
    "CALL algo.betweenness('Person', 'HAS_CONTACT',{direction:'out',write:true, writeProperty:'centrality'})\n",
    "YIELD nodes, minCentrality, maxCentrality, sumCentrality, loadMillis, computeMillis, writeMillis;\n",
    "\"\"\""
   ]
  },
  {
   "cell_type": "code",
   "execution_count": 15,
   "metadata": {},
   "outputs": [],
   "source": [
    "#Running query \n",
    "results = graph.data(query)"
   ]
  },
  {
   "cell_type": "code",
   "execution_count": 16,
   "metadata": {},
   "outputs": [
    {
     "data": {
      "text/plain": [
       "[{'computeMillis': 10,\n",
       "  'loadMillis': 3,\n",
       "  'maxCentrality': -1.0,\n",
       "  'minCentrality': -1.0,\n",
       "  'nodes': 133,\n",
       "  'sumCentrality': -1.0,\n",
       "  'writeMillis': 1}]"
      ]
     },
     "execution_count": 16,
     "metadata": {},
     "output_type": "execute_result"
    }
   ],
   "source": [
    "#Printing 10 nodes\n",
    "results[:10]"
   ]
  },
  {
   "cell_type": "code",
   "execution_count": 17,
   "metadata": {},
   "outputs": [],
   "source": [
    "#Querying triangle number for each node\n",
    "query = \"\"\"\n",
    "CALL algo.betweenness.stream('Person','HAS_CONTACT',{direction:'out'})\n",
    "YIELD nodeId, centrality\n",
    "RETURN nodeId,centrality order by centrality desc limit 20;\n",
    "\"\"\""
   ]
  },
  {
   "cell_type": "code",
   "execution_count": 18,
   "metadata": {},
   "outputs": [],
   "source": [
    "#Running query \n",
    "results = graph.data(query)"
   ]
  },
  {
   "cell_type": "code",
   "execution_count": 19,
   "metadata": {},
   "outputs": [
    {
     "data": {
      "text/plain": [
       "[{'centrality': 514.57116, 'nodeId': 1546},\n",
       " {'centrality': 496.06008, 'nodeId': 1454},\n",
       " {'centrality': 426.49545, 'nodeId': 1484},\n",
       " {'centrality': 420.11792, 'nodeId': 1431},\n",
       " {'centrality': 399.75883, 'nodeId': 1548},\n",
       " {'centrality': 397.7208, 'nodeId': 1412},\n",
       " {'centrality': 389.67733, 'nodeId': 1435},\n",
       " {'centrality': 387.87062, 'nodeId': 1468},\n",
       " {'centrality': 371.05604, 'nodeId': 1508},\n",
       " {'centrality': 367.66426, 'nodeId': 1556}]"
      ]
     },
     "execution_count": 19,
     "metadata": {},
     "output_type": "execute_result"
    }
   ],
   "source": [
    "#Printing 10 nodes\n",
    "results[:10]"
   ]
  },
  {
   "cell_type": "code",
   "execution_count": 21,
   "metadata": {},
   "outputs": [],
   "source": [
    "#Creating nodeid array\n",
    "top_10 = []\n",
    "for a in range(10):\n",
    "    top_10.append(list(results[:10][a].values())[0])"
   ]
  },
  {
   "cell_type": "code",
   "execution_count": 22,
   "metadata": {},
   "outputs": [],
   "source": [
    "#algo.triangleCount.stream returns nodeid's. In order to get person names of this nodes we need to query nodeids\n",
    "query = \"\"\"\n",
    "MATCH (person:Person) \n",
    "WHERE ID(person) in [\"\"\"+str(top_10).strip('[]')+\"\"\"] \n",
    "RETURN person.name\n",
    "\"\"\""
   ]
  },
  {
   "cell_type": "code",
   "execution_count": 23,
   "metadata": {},
   "outputs": [
    {
     "data": {
      "text/plain": [
       "[{'person.name': 'Charlize Theron'},\n",
       " {'person.name': 'Val Kilmer'},\n",
       " {'person.name': 'Tony Scott'},\n",
       " {'person.name': 'Greg Kinnear'},\n",
       " {'person.name': 'Parker Posey'},\n",
       " {'person.name': 'Bruno Kirby'},\n",
       " {'person.name': 'Tom Tykwer'},\n",
       " {'person.name': 'Bill Paxton'},\n",
       " {'person.name': 'Philip Seymour Hoffman'},\n",
       " {'person.name': 'Nancy Meyers'}]"
      ]
     },
     "execution_count": 23,
     "metadata": {},
     "output_type": "execute_result"
    }
   ],
   "source": [
    "graph.data(query)"
   ]
  }
 ],
 "metadata": {
  "kernelspec": {
   "display_name": "Python 3",
   "language": "python",
   "name": "python3"
  },
  "language_info": {
   "codemirror_mode": {
    "name": "ipython",
    "version": 3
   },
   "file_extension": ".py",
   "mimetype": "text/x-python",
   "name": "python",
   "nbconvert_exporter": "python",
   "pygments_lexer": "ipython3",
   "version": "3.6.4"
  }
 },
 "nbformat": 4,
 "nbformat_minor": 2
}
