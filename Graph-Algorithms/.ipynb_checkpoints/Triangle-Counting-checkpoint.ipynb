{
 "cells": [
  {
   "cell_type": "markdown",
   "metadata": {},
   "source": [
    "### Community detection: Triangle Counting and Clustering Coefficient\n",
    "\n",
    "Triangle counting is a community detection graph algorithm which is used to determine the number of triangles passing through each vertex in the graph data set. A vertex is part of a triangle when it has two adjacent vertices with an edge between. The triangle is a three-node subgraph, where every two nodes are connected. This algorithm returns a Graph object and we extract vertices from this triangle counting graph.\n",
    "\n",
    "Triangle counting is used heavily in social network analysis. It provides a measure of clustering in the graph data which is useful for finding communities and measuring the cohesiveness of local communities in social network websites like LinkedIn or Facebook. \n",
    "\n",
    "Clustering Coefficient, an important metric in a social network, shows how much community around one node is tightly connected. The notion of clustering coefficient is inspired by this observation, and is the standard method of summarizing triangle counts. It is well known that some networks, especially social networks, have much higher clustering coefficients than random networks.\n",
    "\n",
    "#### Network Average Clustering Coefficient\n",
    "\n",
    "The clustering coefficient, along with the mean shortest path, can indicate a \"small-world\" effect. For the clustering coefficient to be meaningful it should be significantly higher than in version of the network where all of the edges have been shuffled.\n",
    "\n",
    "The neighborhood of a node, u, is the set of nodes that are connected to u. If every node in the neighborhood of u is connected to every other node in the neighborhood of u, then the neighborhood of u is complete and will have a clustering coefficient of 1. If no nodes in the neighborhood of u are connected, then the clustering coefficient will be 0."
   ]
  },
  {
   "cell_type": "code",
   "execution_count": 15,
   "metadata": {},
   "outputs": [],
   "source": [
    "#Loading library\n",
    "import py2neo as py2neo"
   ]
  },
  {
   "cell_type": "code",
   "execution_count": 16,
   "metadata": {},
   "outputs": [],
   "source": [
    "#Accessing local Neo4j Server\n",
    "py2neo.authenticate(\"localhost:7474\", \"neo4j\", \"neo4j\")"
   ]
  },
  {
   "cell_type": "code",
   "execution_count": 17,
   "metadata": {},
   "outputs": [],
   "source": [
    "graph = py2neo.Graph(\"http://localhost:7474/db/data/\")"
   ]
  },
  {
   "cell_type": "code",
   "execution_count": 20,
   "metadata": {},
   "outputs": [],
   "source": [
    "#Querying triangle number for each node\n",
    "query = \"\"\"\n",
    "CALL algo.triangleCount.stream('Person', 'HAS_CONTACT', {concurrency:100})\n",
    "YIELD nodeId, triangles;\n",
    "\"\"\""
   ]
  },
  {
   "cell_type": "code",
   "execution_count": 21,
   "metadata": {},
   "outputs": [],
   "source": [
    "#Running query \n",
    "results = graph.data(query)"
   ]
  },
  {
   "cell_type": "code",
   "execution_count": 6,
   "metadata": {},
   "outputs": [
    {
     "data": {
      "text/plain": [
       "[{'nodeId': 1401, 'triangles': 88},\n",
       " {'nodeId': 1402, 'triangles': 49},\n",
       " {'nodeId': 1403, 'triangles': 50},\n",
       " {'nodeId': 1404, 'triangles': 56},\n",
       " {'nodeId': 1405, 'triangles': 95},\n",
       " {'nodeId': 1406, 'triangles': 79},\n",
       " {'nodeId': 1407, 'triangles': 7},\n",
       " {'nodeId': 1408, 'triangles': 29},\n",
       " {'nodeId': 1412, 'triangles': 138},\n",
       " {'nodeId': 1413, 'triangles': 56}]"
      ]
     },
     "execution_count": 6,
     "metadata": {},
     "output_type": "execute_result"
    }
   ],
   "source": [
    "#Printing 10 nodes\n",
    "results[:10]"
   ]
  },
  {
   "cell_type": "code",
   "execution_count": 7,
   "metadata": {},
   "outputs": [],
   "source": [
    "#Sorting dictionary containing list\n",
    "from operator import itemgetter\n",
    "newlist = sorted(results, key=itemgetter('triangles'),reverse=True) "
   ]
  },
  {
   "cell_type": "code",
   "execution_count": 8,
   "metadata": {},
   "outputs": [
    {
     "data": {
      "text/plain": [
       "[{'nodeId': 1454, 'triangles': 165},\n",
       " {'nodeId': 1435, 'triangles': 139},\n",
       " {'nodeId': 1412, 'triangles': 138},\n",
       " {'nodeId': 1427, 'triangles': 137},\n",
       " {'nodeId': 1486, 'triangles': 128},\n",
       " {'nodeId': 1498, 'triangles': 125},\n",
       " {'nodeId': 1431, 'triangles': 123},\n",
       " {'nodeId': 1484, 'triangles': 114},\n",
       " {'nodeId': 1453, 'triangles': 108},\n",
       " {'nodeId': 1468, 'triangles': 107}]"
      ]
     },
     "execution_count": 8,
     "metadata": {},
     "output_type": "execute_result"
    }
   ],
   "source": [
    "#Printing top 10 triangle nodes\n",
    "newlist[:10]"
   ]
  },
  {
   "cell_type": "code",
   "execution_count": 9,
   "metadata": {},
   "outputs": [],
   "source": [
    "#Creating nodeid array\n",
    "top_10 = []\n",
    "for a in range(10):\n",
    "    top_10.append(list(newlist[:10][a].values())[0])"
   ]
  },
  {
   "cell_type": "code",
   "execution_count": 10,
   "metadata": {},
   "outputs": [],
   "source": [
    "#algo.triangleCount.stream returns nodeid's. In order to get person names of this nodes we need to query nodeids\n",
    "query = \"\"\"\n",
    "MATCH (person:Person) \n",
    "WHERE ID(person) in [\"\"\"+str(top_10).strip('[]')+\"\"\"] \n",
    "RETURN person.name\n",
    "\"\"\""
   ]
  },
  {
   "cell_type": "code",
   "execution_count": 11,
   "metadata": {},
   "outputs": [
    {
     "data": {
      "text/plain": [
       "[{'person.name': 'Charlize Theron'},\n",
       " {'person.name': 'Rob Reiner'},\n",
       " {'person.name': 'Val Kilmer'},\n",
       " {'person.name': 'Tony Scott'},\n",
       " {'person.name': 'Helen Hunt'},\n",
       " {'person.name': 'Greg Kinnear'},\n",
       " {'person.name': 'Parker Posey'},\n",
       " {'person.name': 'Bruno Kirby'},\n",
       " {'person.name': 'Liv Tyler'},\n",
       " {'person.name': 'Richard Harris'}]"
      ]
     },
     "execution_count": 11,
     "metadata": {},
     "output_type": "execute_result"
    }
   ],
   "source": [
    "graph.data(query)"
   ]
  },
  {
   "cell_type": "code",
   "execution_count": 12,
   "metadata": {},
   "outputs": [],
   "source": [
    "#Computing cluster coefficient\n",
    "query = \"\"\"\n",
    "CALL algo.triangleCount('Person', 'HAS_CONTACT',\n",
    "{concurrency:4, write:true, writeProperty:'triangles',clusteringCoefficientProperty:'coefficient'})\n",
    "YIELD loadMillis, computeMillis, writeMillis, nodeCount, triangleCount, averageClusteringCoefficient;\n",
    "\"\"\""
   ]
  },
  {
   "cell_type": "code",
   "execution_count": 13,
   "metadata": {},
   "outputs": [],
   "source": [
    "results = graph.data(query)"
   ]
  },
  {
   "cell_type": "code",
   "execution_count": 14,
   "metadata": {
    "scrolled": true
   },
   "outputs": [
    {
     "data": {
      "text/plain": [
       "[{'averageClusteringCoefficient': 0.19542368158538823,\n",
       "  'computeMillis': 11,\n",
       "  'loadMillis': 5,\n",
       "  'nodeCount': 133,\n",
       "  'triangleCount': 2442,\n",
       "  'writeMillis': 8}]"
      ]
     },
     "execution_count": 14,
     "metadata": {},
     "output_type": "execute_result"
    }
   ],
   "source": [
    "results"
   ]
  }
 ],
 "metadata": {
  "kernelspec": {
   "display_name": "Python 3",
   "language": "python",
   "name": "python3"
  },
  "language_info": {
   "codemirror_mode": {
    "name": "ipython",
    "version": 3
   },
   "file_extension": ".py",
   "mimetype": "text/x-python",
   "name": "python",
   "nbconvert_exporter": "python",
   "pygments_lexer": "ipython3",
   "version": "3.6.4"
  }
 },
 "nbformat": 4,
 "nbformat_minor": 2
}
