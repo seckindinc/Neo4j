{
 "cells": [
  {
   "cell_type": "markdown",
   "metadata": {},
   "source": [
    "### Closeness Centrality\n",
    "\n",
    "Closeness Centrality of a node is a measure of centrality in a network, that measures the nearness (as opposite from the distance) from a node to all other nodes. Nodes having a high closeness score have the shortest distances to all other nodes. Closeness centrality is based on the idea that nodes with short distance to other nodes can spread information very productively through the network. This is important for the availability of knowledge and resources.\n",
    "\n",
    "To calculate closeness, one begins by calculating, for each pair of nodes in the network, the length of the shortest path from one to the other (geodesic distance). Then for each node, one sums up the total distance from the node to all other nodes. The greater the raw closeness centrality, the greater the time it takes on average for information originating at random points in the network to arrive at the node. Equally, one can interpret closeness as the potential ability of a node to reach all other nodes as quickly as possible. Nodes having a high closeness centrality are nearby all other nodes and have advantages in accessing resources in a network or having a good overview of the agents in a network.\n",
    "\n",
    "It is important to note that raw closeness centrality is an inverse measure of centrality in that it is nodes with smaller scores that are the most central. On the other hand normalized closeness centrality is not an inverse measure, as nodes with higher centrality score are more central. Our algorithm returns normalized closeness centrality score."
   ]
  },
  {
   "cell_type": "code",
   "execution_count": 1,
   "metadata": {},
   "outputs": [],
   "source": [
    "#Loading library\n",
    "import py2neo as py2neo"
   ]
  },
  {
   "cell_type": "code",
   "execution_count": 2,
   "metadata": {},
   "outputs": [],
   "source": [
    "#Accessing local Neo4j Server\n",
    "py2neo.authenticate(\"localhost:7474\", \"neo4j\", \"neo4j\")"
   ]
  },
  {
   "cell_type": "code",
   "execution_count": 3,
   "metadata": {},
   "outputs": [],
   "source": [
    "graph = py2neo.Graph(\"http://localhost:7474/db/data/\")"
   ]
  },
  {
   "cell_type": "code",
   "execution_count": 4,
   "metadata": {},
   "outputs": [],
   "source": [
    "#Calculating coefficients\n",
    "query = \"\"\"\n",
    "CALL algo.closeness(\n",
    "'MATCH (u:Person) RETURN id(u) as id',\n",
    "'MATCH (u1:Person)-[:HAS_CONTACT]->(u2:Person) RETURN id(u1) as source, id(u2) as target',\n",
    "{graph:'cypher', write: true, concurrency:4});\n",
    "\"\"\""
   ]
  },
  {
   "cell_type": "code",
   "execution_count": 5,
   "metadata": {},
   "outputs": [],
   "source": [
    "#Running query \n",
    "results = graph.data(query)"
   ]
  },
  {
   "cell_type": "code",
   "execution_count": 6,
   "metadata": {},
   "outputs": [
    {
     "data": {
      "text/plain": [
       "[{'computeMillis': 24, 'loadMillis': 408, 'nodes': 133, 'writeMillis': 88}]"
      ]
     },
     "execution_count": 6,
     "metadata": {},
     "output_type": "execute_result"
    }
   ],
   "source": [
    "results"
   ]
  },
  {
   "cell_type": "code",
   "execution_count": 30,
   "metadata": {},
   "outputs": [],
   "source": [
    "#Calculating coefficients\n",
    "query = \"\"\"\n",
    "CALL algo.closeness.stream(\n",
    "'MATCH (u:Person) RETURN id(u) as id',\n",
    "'MATCH (u1:Person)-[:HAS_CONTACT]->(u2:Person) RETURN id(u1) as source, id(u2) as target',\n",
    "{graph:'cypher', write: true, concurrency:4})\n",
    "YIELD nodeId, centrality;\n",
    "\"\"\""
   ]
  },
  {
   "cell_type": "code",
   "execution_count": 31,
   "metadata": {},
   "outputs": [],
   "source": [
    "#Running query \n",
    "results = graph.data(query)"
   ]
  },
  {
   "cell_type": "code",
   "execution_count": 29,
   "metadata": {},
   "outputs": [
    {
     "data": {
      "text/plain": [
       "[{'centrality': 0.42038216560509556, 'nodeId': 1401},\n",
       " {'centrality': 0.4217252396166134, 'nodeId': 1402},\n",
       " {'centrality': 0.43564356435643564, 'nodeId': 1403},\n",
       " {'centrality': 0.45993031358885017, 'nodeId': 1404},\n",
       " {'centrality': 0.4664310954063604, 'nodeId': 1405},\n",
       " {'centrality': 0.4074074074074074, 'nodeId': 1406},\n",
       " {'centrality': 0.38372093023255816, 'nodeId': 1407},\n",
       " {'centrality': 0.45674740484429066, 'nodeId': 1408},\n",
       " {'centrality': 0.43137254901960786, 'nodeId': 1412},\n",
       " {'centrality': 0.4489795918367347, 'nodeId': 1413}]"
      ]
     },
     "execution_count": 29,
     "metadata": {},
     "output_type": "execute_result"
    }
   ],
   "source": [
    "results[:10]"
   ]
  },
  {
   "cell_type": "code",
   "execution_count": 33,
   "metadata": {},
   "outputs": [],
   "source": [
    "#Sorting dictionary containing list\n",
    "from operator import itemgetter\n",
    "newlist = sorted(results, key=itemgetter('centrality'),reverse=True) "
   ]
  },
  {
   "cell_type": "code",
   "execution_count": 34,
   "metadata": {},
   "outputs": [
    {
     "data": {
      "text/plain": [
       "[{'centrality': 0.4870848708487085, 'nodeId': 1549},\n",
       " {'centrality': 0.48175182481751827, 'nodeId': 1460},\n",
       " {'centrality': 0.47653429602888087, 'nodeId': 1476},\n",
       " {'centrality': 0.4731182795698925, 'nodeId': 1454},\n",
       " {'centrality': 0.4697508896797153, 'nodeId': 1484},\n",
       " {'centrality': 0.4697508896797153, 'nodeId': 1525},\n",
       " {'centrality': 0.4697508896797153, 'nodeId': 1570},\n",
       " {'centrality': 0.4664310954063604, 'nodeId': 1405},\n",
       " {'centrality': 0.4664310954063604, 'nodeId': 1441},\n",
       " {'centrality': 0.4647887323943662, 'nodeId': 1424}]"
      ]
     },
     "execution_count": 34,
     "metadata": {},
     "output_type": "execute_result"
    }
   ],
   "source": [
    "#Printing top 10 triangle nodes\n",
    "newlist[:10]"
   ]
  },
  {
   "cell_type": "code",
   "execution_count": 35,
   "metadata": {},
   "outputs": [],
   "source": [
    "#Creating nodeid array\n",
    "top_10 = []\n",
    "for a in range(10):\n",
    "    top_10.append(list(newlist[:10][a].values())[0])"
   ]
  },
  {
   "cell_type": "code",
   "execution_count": 36,
   "metadata": {},
   "outputs": [],
   "source": [
    "#algo.triangleCount.stream returns nodeid's. In order to get person names of this nodes we need to query nodeids\n",
    "query = \"\"\"\n",
    "MATCH (person:Person) \n",
    "WHERE ID(person) in [\"\"\"+str(top_10).strip('[]')+\"\"\"] \n",
    "RETURN person.name\n",
    "\"\"\""
   ]
  },
  {
   "cell_type": "code",
   "execution_count": 37,
   "metadata": {},
   "outputs": [
    {
     "data": {
      "text/plain": [
       "[{'person.name': 'Andy Wachowski'},\n",
       " {'person.name': 'J.T. Walsh'},\n",
       " {'person.name': 'Jay Mohr'},\n",
       " {'person.name': 'Greg Kinnear'},\n",
       " {'person.name': 'Robin Williams'},\n",
       " {'person.name': 'Victor Garber'},\n",
       " {'person.name': 'Bruno Kirby'},\n",
       " {'person.name': 'Matthew Fox'},\n",
       " {'person.name': 'Jan de Bont'},\n",
       " {'person.name': 'James Thompson'}]"
      ]
     },
     "execution_count": 37,
     "metadata": {},
     "output_type": "execute_result"
    }
   ],
   "source": [
    "graph.data(query)"
   ]
  }
 ],
 "metadata": {
  "kernelspec": {
   "display_name": "Python 3",
   "language": "python",
   "name": "python3"
  },
  "language_info": {
   "codemirror_mode": {
    "name": "ipython",
    "version": 3
   },
   "file_extension": ".py",
   "mimetype": "text/x-python",
   "name": "python",
   "nbconvert_exporter": "python",
   "pygments_lexer": "ipython3",
   "version": "3.6.4"
  }
 },
 "nbformat": 4,
 "nbformat_minor": 2
}
