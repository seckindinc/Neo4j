{
 "cells": [
  {
   "cell_type": "code",
   "execution_count": 8,
   "metadata": {},
   "outputs": [],
   "source": [
    "import sys\n",
    "import py2neo as py2neo\n",
    "import networkx as nx"
   ]
  },
  {
   "cell_type": "code",
   "execution_count": 11,
   "metadata": {},
   "outputs": [],
   "source": [
    "py2neo.authenticate(\"localhost:7474\", \"neo4j\", \"neo4j\")"
   ]
  },
  {
   "cell_type": "code",
   "execution_count": 12,
   "metadata": {},
   "outputs": [],
   "source": [
    "graph = py2neo.Graph(\"http://localhost:7474/db/data/\")"
   ]
  },
  {
   "cell_type": "code",
   "execution_count": 10,
   "metadata": {},
   "outputs": [],
   "source": [
    "g = nx.MultiDiGraph()"
   ]
  },
  {
   "cell_type": "code",
   "execution_count": 39,
   "metadata": {},
   "outputs": [],
   "source": [
    "query = \"\"\"\n",
    "MATCH (person:Person{name: 'Tom Hanks'})\n",
    "MATCH (movie:Movie{title:\"Charlie Wilson's War\"})\n",
    "MATCH path=(person)-[rel:ACTED_IN]->(movie)\n",
    "RETURN path,person,movie\n",
    "\"\"\""
   ]
  },
  {
   "cell_type": "code",
   "execution_count": 40,
   "metadata": {},
   "outputs": [],
   "source": [
    "results = graph.data( query )"
   ]
  },
  {
   "cell_type": "code",
   "execution_count": 41,
   "metadata": {},
   "outputs": [
    {
     "data": {
      "text/plain": [
       "[{'movie': (a3377f2:Movie {released:2007,tagline:\"A stiff drink. A little mascara. A lot of nerve. Who said they couldn't bring down the Soviet empire.\",title:\"Charlie Wilson's War\"}),\n",
       "  'path': (c173843)-[:ACTED_IN {earnings:15614066,roles:[\"Rep. Charlie Wilson\"]}]->(a3377f2),\n",
       "  'person': (c173843:Person {born:1956,name:\"Tom Hanks\"})}]"
      ]
     },
     "execution_count": 41,
     "metadata": {},
     "output_type": "execute_result"
    }
   ],
   "source": [
    "results"
   ]
  },
  {
   "cell_type": "code",
   "execution_count": 22,
   "metadata": {},
   "outputs": [
    {
     "name": "stdout",
     "output_type": "stream",
     "text": [
      "(c173843:Person {born:1956,name:\"Tom Hanks\"})\n",
      "\n",
      "(a3377f2:Movie {released:2007,tagline:\"A stiff drink. A little mascara. A lot of nerve. Who said they couldn't bring down the Soviet empire.\",title:\"Charlie Wilson's War\"})\n",
      "\n",
      "(c173843)-[:ACTED_IN {earnings:15614066,roles:[\"Rep. Charlie Wilson\"]}]->(a3377f2)\n"
     ]
    }
   ],
   "source": [
    "for d in results:\n",
    "    print(d['person'])\n",
    "    print('')\n",
    "    print(d['movie'])\n",
    "    print('')\n",
    "    print(d['path'])\n",
    "    personid = g.add_node(g,dict(d['person']))\n",
    "    movieid = g.add_node(g,dict(d['movie']))\n",
    "    g.add_edge(personid, movieid)"
   ]
  },
  {
   "cell_type": "code",
   "execution_count": 42,
   "metadata": {},
   "outputs": [],
   "source": [
    "data = graph.run(query)"
   ]
  },
  {
   "cell_type": "code",
   "execution_count": 43,
   "metadata": {},
   "outputs": [
    {
     "name": "stdout",
     "output_type": "stream",
     "text": [
      "('path': (c173843)-[:ACTED_IN {earnings:15614066,roles:[\"Rep. Charlie Wilson\"]}]->(a3377f2), 'person': (c173843:Person {born:1956,name:\"Tom Hanks\"}), 'movie': (a3377f2:Movie {released:2007,tagline:\"A stiff drink. A little mascara. A lot of nerve. Who said they couldn't bring down the Soviet empire.\",title:\"Charlie Wilson's War\"}))\n"
     ]
    }
   ],
   "source": [
    "for d in data:\n",
    "    print(d)"
   ]
  },
  {
   "cell_type": "code",
   "execution_count": 37,
   "metadata": {},
   "outputs": [],
   "source": [
    "%load_ext cypher"
   ]
  },
  {
   "cell_type": "code",
   "execution_count": 38,
   "metadata": {},
   "outputs": [
    {
     "name": "stdout",
     "output_type": "stream",
     "text": [
      "1 rows affected.\n"
     ]
    },
    {
     "data": {
      "text/html": [
       "<table>\n",
       "    <tr>\n",
       "        <th>path</th>\n",
       "        <th>person</th>\n",
       "        <th>movie</th>\n",
       "    </tr>\n",
       "    <tr>\n",
       "        <td>[{&#x27;born&#x27;: 1956, &#x27;name&#x27;: &#x27;Tom Hanks&#x27;}, {&#x27;earnings&#x27;: 15614066, &#x27;roles&#x27;: [&#x27;Rep. Charlie Wilson&#x27;]}, {&#x27;tagline&#x27;: &quot;A stiff drink. A little mascara. A lot of nerve. Who said they couldn&#x27;t bring down the Soviet empire.&quot;, &#x27;title&#x27;: &quot;Charlie Wilson&#x27;s War&quot;, &#x27;released&#x27;: 2007}]</td>\n",
       "        <td>{&#x27;born&#x27;: 1956, &#x27;name&#x27;: &#x27;Tom Hanks&#x27;}</td>\n",
       "        <td>{&#x27;tagline&#x27;: &quot;A stiff drink. A little mascara. A lot of nerve. Who said they couldn&#x27;t bring down the Soviet empire.&quot;, &#x27;title&#x27;: &quot;Charlie Wilson&#x27;s War&quot;, &#x27;released&#x27;: 2007}</td>\n",
       "    </tr>\n",
       "</table>"
      ],
      "text/plain": [
       "[[[{'born': 1956, 'name': 'Tom Hanks'},\n",
       "   {'earnings': 15614066, 'roles': ['Rep. Charlie Wilson']},\n",
       "   {'released': 2007,\n",
       "    'tagline': \"A stiff drink. A little mascara. A lot of nerve. Who said they couldn't bring down the Soviet empire.\",\n",
       "    'title': \"Charlie Wilson's War\"}],\n",
       "  {'born': 1956, 'name': 'Tom Hanks'},\n",
       "  {'released': 2007,\n",
       "   'tagline': \"A stiff drink. A little mascara. A lot of nerve. Who said they couldn't bring down the Soviet empire.\",\n",
       "   'title': \"Charlie Wilson's War\"}]]"
      ]
     },
     "execution_count": 38,
     "metadata": {},
     "output_type": "execute_result"
    }
   ],
   "source": [
    "%%cypher \n",
    "MATCH (person:Person{name: 'Tom Hanks'})\n",
    "MATCH (movie:Movie{title:\"Charlie Wilson's War\"})\n",
    "MATCH path=(person)-[rel:ACTED_IN]->(movie)\n",
    "RETURN path,person,movie"
   ]
  }
 ],
 "metadata": {
  "kernelspec": {
   "display_name": "Python 3",
   "language": "python",
   "name": "python3"
  },
  "language_info": {
   "codemirror_mode": {
    "name": "ipython",
    "version": 3
   },
   "file_extension": ".py",
   "mimetype": "text/x-python",
   "name": "python",
   "nbconvert_exporter": "python",
   "pygments_lexer": "ipython3",
   "version": "3.6.4"
  }
 },
 "nbformat": 4,
 "nbformat_minor": 2
}
